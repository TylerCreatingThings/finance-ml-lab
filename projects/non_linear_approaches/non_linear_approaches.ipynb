{
 "cells": [
  {
   "cell_type": "markdown",
   "id": "124f9ed7",
   "metadata": {},
   "source": [
    "How do you accomodate for all the non-linear factors that accomodate for stock prices?\n",
    "\n",
    "- Volatility, MA, Spread, Liquidity, etc.\n",
    "- Other ML algorithms running\n",
    "- Market arbitrage\n",
    "- Complex temporal differences\n",
    "\n",
    "\n",
    "Tree based approaches:\n",
    "- Random Forest, Gradient Boost, modules XGBoost and LightGBM\n",
    "\n",
    "These learn the coorelation of the features list with the output price.\n",
    "They create multiple trees each with different weights and learning rates. \n",
    "They give more weight to the features that predict the output the best.\n",
    "\n",
    "Neural networks.\n",
    "- Feed forward NNs\n",
    "- Use multilayer perceptrons created from hidden layers that can learn non-linear relationships and have the ability to learn weights and biases to take in new input and predict an output.\n",
    "\n",
    "- Recurrent NN (LSTM/GRU) - handles sequential data naturally, models long term dependencies better.\n",
    "- Temporal Convolution / Transformers\n",
    " -> new architectures using transformers for long sequences.\n",
    "\n",
    " You can also use both methods, which makes sense. Use ARIMA for capturing the statistical linear analysis, and then other ML methods for non-linear relationships.\n",
    "\n",
    "\n",
    "Key idea: convert time series into a supervised problem"
   ]
  }
 ],
 "metadata": {
  "language_info": {
   "name": "python"
  }
 },
 "nbformat": 4,
 "nbformat_minor": 5
}
